{
  "nbformat": 4,
  "nbformat_minor": 0,
  "metadata": {
    "colab": {
      "provenance": []
    },
    "kernelspec": {
      "name": "python3",
      "display_name": "Python 3"
    },
    "language_info": {
      "name": "python"
    }
  },
  "cells": [
    {
      "cell_type": "code",
      "source": [
        "from google.colab import drive\n",
        "drive.mount('/content/drive')"
      ],
      "metadata": {
        "colab": {
          "base_uri": "https://localhost:8080/"
        },
        "id": "TiCjZx-t9I7f",
        "outputId": "a216bd17-eb61-40dc-99f5-a2313c341c45"
      },
      "execution_count": 4,
      "outputs": [
        {
          "output_type": "stream",
          "name": "stdout",
          "text": [
            "Mounted at /content/drive\n"
          ]
        }
      ]
    },
    {
      "cell_type": "code",
      "execution_count": 1,
      "metadata": {
        "id": "-B5ntVZhrLHZ"
      },
      "outputs": [],
      "source": [
        "#Libraries\n",
        "from sklearn.linear_model import ElasticNet, LogisticRegression\n",
        "from sklearn.preprocessing import StandardScaler\n",
        "from sklearn.model_selection import train_test_split\n",
        "from sklearn.metrics import mean_squared_error, accuracy_score\n",
        "import pandas as pd\n",
        "import warnings\n",
        "import matplotlib.pyplot as plt\n",
        "from sklearn.neighbors import KNeighborsClassifier"
      ]
    },
    {
      "cell_type": "code",
      "source": [
        "#Data Loading, Displaying a random sample of the dataset, and Splitting\n",
        "def separate_futr_label(data, label_column):\n",
        "    futr = data.drop(columns=[label_column])\n",
        "    label = data[label_column]\n",
        "    return futr, label\n",
        "\n",
        "def calculate_rmse(model, futr, label):\n",
        "    predict = model.predict(futr)\n",
        "    rmse = mean_squared_error(label, predict, squared=False)\n",
        "    return rmse\n",
        "\n",
        "def split(data):\n",
        "    train, test = train_test_split(data, test_size=0.2, random_state=70)\n",
        "    return train, test\n",
        "\n",
        "def load_and_display_data(file_path, sample_size=20):\n",
        "\n",
        "    df = pd.read_csv(file_path, sep=\";\")\n",
        "\n",
        "    random_sample = df.sample(n=sample_size, random_state=70)\n",
        "    print(random_sample)\n",
        "\n",
        "    return df\n",
        "\n",
        "if __name__ == \"__main__\":\n",
        "    df = load_and_display_data(\"/content/drive/MyDrive/Colab Notebooks/winequality-red.csv\")\n",
        "    train, test = split(df)\n"
      ],
      "metadata": {
        "id": "H1M4IEBVmrbG",
        "colab": {
          "base_uri": "https://localhost:8080/"
        },
        "outputId": "c12535ef-6f67-4a98-b98d-6123c75617f7"
      },
      "execution_count": 5,
      "outputs": [
        {
          "output_type": "stream",
          "name": "stdout",
          "text": [
            "      fixed acidity  volatile acidity  citric acid  residual sugar  chlorides  \\\n",
            "728             6.4             0.570         0.02             1.8      0.067   \n",
            "779             7.1             0.520         0.03             2.6      0.076   \n",
            "1206            7.2             0.360         0.46             2.1      0.074   \n",
            "298             7.2             0.650         0.02             2.3      0.094   \n",
            "370             6.9             0.765         0.02             2.3      0.063   \n",
            "1413            9.9             0.570         0.25             2.0      0.104   \n",
            "951             8.3             0.280         0.48             2.1      0.093   \n",
            "450            11.9             0.390         0.69             2.8      0.095   \n",
            "1032            8.1             0.820         0.00             4.1      0.095   \n",
            "1449            7.2             0.380         0.31             2.0      0.056   \n",
            "505            10.2             0.490         0.63             2.9      0.072   \n",
            "1314            7.0             0.360         0.21             2.4      0.086   \n",
            "238             7.2             0.630         0.00             1.9      0.097   \n",
            "1421            7.5             0.400         0.18             1.6      0.079   \n",
            "668            10.0             0.730         0.43             2.3      0.059   \n",
            "688             7.7             0.660         0.04             1.6      0.039   \n",
            "1145            8.2             0.200         0.43             2.5      0.076   \n",
            "585             7.6             0.510         0.24             2.4      0.091   \n",
            "1286            7.1             0.160         0.44             2.5      0.068   \n",
            "296            10.6             0.830         0.37             2.6      0.086   \n",
            "\n",
            "      free sulfur dioxide  total sulfur dioxide  density    pH  sulphates  \\\n",
            "728                   4.0                  11.0  0.99700  3.46       0.68   \n",
            "779                  21.0                  92.0  0.99745  3.50       0.60   \n",
            "1206                 24.0                  44.0  0.99534  3.40       0.85   \n",
            "298                   5.0                  31.0  0.99930  3.67       0.80   \n",
            "370                  35.0                  63.0  0.99750  3.57       0.78   \n",
            "1413                 12.0                  89.0  0.99630  3.04       0.90   \n",
            "951                   6.0                  12.0  0.99408  3.26       0.62   \n",
            "450                  17.0                  35.0  0.99940  3.10       0.61   \n",
            "1032                  5.0                  14.0  0.99854  3.36       0.53   \n",
            "1449                 15.0                  29.0  0.99472  3.23       0.76   \n",
            "505                  10.0                  26.0  0.99680  3.16       0.78   \n",
            "1314                 24.0                  69.0  0.99556  3.40       0.53   \n",
            "238                  14.0                  38.0  0.99675  3.37       0.58   \n",
            "1421                 24.0                  58.0  0.99650  3.34       0.58   \n",
            "668                  15.0                  31.0  0.99660  3.15       0.57   \n",
            "688                   4.0                   9.0  0.99620  3.40       0.47   \n",
            "1145                 31.0                  51.0  0.99672  3.53       0.81   \n",
            "585                   8.0                  38.0  0.99800  3.47       0.66   \n",
            "1286                 17.0                  31.0  0.99328  3.35       0.54   \n",
            "296                  26.0                  70.0  0.99810  3.16       0.52   \n",
            "\n",
            "      alcohol  quality  \n",
            "728       9.5        5  \n",
            "779       9.8        5  \n",
            "1206     11.0        7  \n",
            "298       9.7        5  \n",
            "370       9.9        5  \n",
            "1413     10.1        5  \n",
            "951      12.4        7  \n",
            "450      10.8        6  \n",
            "1032      9.6        5  \n",
            "1449     11.3        8  \n",
            "505      12.5        7  \n",
            "1314     10.1        6  \n",
            "238       9.0        6  \n",
            "1421      9.4        5  \n",
            "668      11.0        5  \n",
            "688       9.4        5  \n",
            "1145     10.4        6  \n",
            "585       9.6        6  \n",
            "1286     12.4        6  \n",
            "296       9.9        5  \n"
          ]
        }
      ]
    },
    {
      "cell_type": "code",
      "source": [
        "#RMSE\n",
        "def rmse(model, futr, label):\n",
        "    predict = model.predict(futr)\n",
        "    rmse = mean_squared_error(label, predict, squared=False)\n",
        "    return rmse"
      ],
      "metadata": {
        "id": "dkeULJStzjMJ"
      },
      "execution_count": 6,
      "outputs": []
    },
    {
      "source": [
        "#REGRESSION (ElasticNet )\n",
        "train_rg_futr, train_rg_label = separate_futr_label(train, label_column=\"quality\")\n",
        "\n",
        "scaler_rg = StandardScaler()\n",
        "scaled_train_rg_futr = scaler_rg.fit_transform(train_rg_futr)\n",
        "\n",
        "elastic_net_model = ElasticNet()\n",
        "with warnings.catch_warnings():\n",
        "    warnings.filterwarnings(\"ignore\")\n",
        "    elastic_net_model.fit(scaled_train_rg_futr, train_rg_label)\n",
        "\n",
        "train_elastic_net_rmse = rmse(elastic_net_model, scaled_train_rg_futr, train_rg_label)\n",
        "print(f\"ElasticNet RMSE for TRAIN: {train_elastic_net_rmse}\")"
      ],
      "cell_type": "code",
      "metadata": {
        "colab": {
          "base_uri": "https://localhost:8080/"
        },
        "id": "MXrMwJpTxSwp",
        "outputId": "0379edd4-7244-4584-cb02-6608ddccbc5c"
      },
      "execution_count": 7,
      "outputs": [
        {
          "output_type": "stream",
          "name": "stdout",
          "text": [
            "ElasticNet RMSE for TRAIN: 0.8142441467673188\n"
          ]
        }
      ]
    },
    {
      "cell_type": "code",
      "source": [
        "#CLASSIFICATION (LogisticRegression)\n",
        "train_class_futr, train_class_label = separate_futr_label(train, label_column=\"quality\")\n",
        "scaler_class = StandardScaler()\n",
        "scaled_train_class_futr = scaler_class.fit_transform(train_class_futr)\n",
        "log_rg_model = LogisticRegression()\n",
        "log_rg_model.fit(scaled_train_class_futr, train_class_label)\n",
        "log_rg_train_predictions = log_rg_model.predict(scaled_train_class_futr)\n",
        "log_rg_train_accuracy = accuracy_score(train_class_label, log_rg_train_predictions)\n",
        "print(f\"Logistic Regression Accuracy for TRAIN: {log_rg_train_accuracy}\")"
      ],
      "metadata": {
        "colab": {
          "base_uri": "https://localhost:8080/"
        },
        "id": "9_yowSldst5s",
        "outputId": "ea9ba39c-6e91-4566-bf08-2ed41b4d86d3"
      },
      "execution_count": 8,
      "outputs": [
        {
          "output_type": "stream",
          "name": "stdout",
          "text": [
            "Logistic Regression Accuracy for TRAIN: 0.6035965598123534\n"
          ]
        }
      ]
    },
    {
      "cell_type": "code",
      "source": [
        "#TEST\n",
        "test_rg_futr, test_rg_label = separate_futr_label(test, label_column=\"quality\")\n",
        "scaled_test_rg_futr = scaler_rg.transform(test_rg_futr)\n",
        "\n",
        "test_elastic_net_rmse = rmse(elastic_net_model, scaled_test_rg_futr, test_rg_label)\n",
        "print(f\"ElasticNet RMSE for TEST: {test_elastic_net_rmse}\")\n",
        "\n",
        "test_class_futr, test_class_label = separate_futr_label(test, label_column=\"quality\")\n",
        "scaled_test_class_futr = scaler_class.transform(test_class_futr)\n",
        "log_rg_test_predict = log_rg_model.predict(scaled_test_class_futr)\n",
        "log_rg_test_accuracy = accuracy_score(test_class_label, log_rg_test_predict)\n",
        "print(f\"Logistic Rgression Accuracy for TEST: {log_rg_test_accuracy}\")\n"
      ],
      "metadata": {
        "colab": {
          "base_uri": "https://localhost:8080/"
        },
        "id": "-gke-Fs3s_Qj",
        "outputId": "d91af508-586c-40ec-c6f1-15bf31743472"
      },
      "execution_count": 9,
      "outputs": [
        {
          "output_type": "stream",
          "name": "stdout",
          "text": [
            "ElasticNet RMSE for TEST: 0.7794282047595079\n",
            "Logistic Rgression Accuracy for TEST: 0.60625\n"
          ]
        }
      ]
    },
    {
      "cell_type": "code",
      "source": [
        "# CLASSIFICATION (K-Nearest Neighbors)\n",
        "train_class_futr, train_class_label = separate_futr_label(train, label_column=\"quality\")\n",
        "scaler_class = StandardScaler()\n",
        "scaled_train_class_futr = scaler_class.fit_transform(train_class_futr)\n",
        "knn_model = KNeighborsClassifier(n_neighbors=7, algorithm='auto', weights='uniform')\n",
        "knn_model.fit(scaled_train_class_futr, train_class_label)\n",
        "knn_train_predictions = knn_model.predict(scaled_train_class_futr)\n",
        "knn_train_accuracy = accuracy_score(train_class_label, knn_train_predictions)\n",
        "print(f\"K-Nearest Neighbors Accuracy for TRAIN: {knn_train_accuracy}\")"
      ],
      "metadata": {
        "colab": {
          "base_uri": "https://localhost:8080/"
        },
        "id": "DQ1VbQw6-yNO",
        "outputId": "0a20b2b3-c4ac-4592-8426-90edaf9f19d5"
      },
      "execution_count": 10,
      "outputs": [
        {
          "output_type": "stream",
          "name": "stdout",
          "text": [
            "K-Nearest Neighbors Accuracy for TRAIN: 0.6763096168881939\n"
          ]
        }
      ]
    },
    {
      "cell_type": "code",
      "source": [
        "#KNN Accuracy for Test\n",
        "test_class_futr, test_class_label = separate_futr_label(test, label_column=\"quality\")\n",
        "scaled_test_class_futr = scaler_class.transform(test_class_futr)\n",
        "knn_test_predict = knn_model.predict(scaled_test_class_futr)\n",
        "knn_test_accuracy = accuracy_score(test_class_label, knn_test_predict)\n",
        "print(f\"K-Nearest Neighbors Accuracy for TEST: {knn_test_accuracy}\")"
      ],
      "metadata": {
        "colab": {
          "base_uri": "https://localhost:8080/"
        },
        "id": "X6t4MCr-GVjB",
        "outputId": "512d3497-8dda-40ca-9d3e-79d0bab8cd80"
      },
      "execution_count": 11,
      "outputs": [
        {
          "output_type": "stream",
          "name": "stdout",
          "text": [
            "K-Nearest Neighbors Accuracy for TEST: 0.615625\n"
          ]
        }
      ]
    },
    {
      "cell_type": "code",
      "source": [
        "# Accuracy values\n",
        "accuracy_values = [log_rg_train_accuracy, knn_train_accuracy, log_rg_test_accuracy, knn_test_accuracy]\n",
        "labels = ['Logistic Reg (Train)', 'K-NN (Train)', 'Logistic Regr (Test)', 'K-NN (Test)']\n",
        "plt.figure(figsize=(4, 4))\n",
        "plt.bar(labels, accuracy_values, color=['green', 'red', 'lightgreen', 'lightcoral'])\n",
        "plt.ylim(0, 1)\n",
        "plt.title(' Logistic Regression vs K-Nearest Neighbors')\n",
        "plt.ylabel('Accuracy')\n",
        "plt.xticks(rotation=45, ha='right')\n",
        "plt.show()\n"
      ],
      "metadata": {
        "colab": {
          "base_uri": "https://localhost:8080/",
          "height": 480
        },
        "id": "-foXI5MEAnLN",
        "outputId": "9793a295-b8b8-420d-b493-5779f041a20c"
      },
      "execution_count": 12,
      "outputs": [
        {
          "output_type": "display_data",
          "data": {
            "text/plain": [
              "<Figure size 400x400 with 1 Axes>"
            ],
            "image/png": "[encoded data removed]"
          },
          "metadata": {}
        }
      ]
    }
  ]
}